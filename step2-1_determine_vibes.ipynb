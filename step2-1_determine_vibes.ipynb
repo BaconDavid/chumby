{
 "cells": [
  {
   "cell_type": "code",
   "execution_count": 1,
   "metadata": {},
   "outputs": [],
   "source": [
    "import os\n",
    "import sys\n",
    "from multiprocessing import Pool\n",
    "\n",
    "import numpy as np\n",
    "from scipy.spatial.distance import cdist\n",
    "from ete3 import Tree, TextFace, TreeStyle, NodeStyle\n",
    "\n",
    "sys.dont_write_bytecode = True\n",
    "\n",
    "from my_library import neighbor_joining, Metrics\n",
    "from my_vibe import VIBE, get_bipartitions, get_support"
   ]
  },
  {
   "cell_type": "markdown",
   "metadata": {},
   "source": [
    "# Allocate resources\n",
    "\n",
    "- **THREADS** : this variable will be passed to `torch`\n",
    "- **DEVICE** : this will be passed to `torch`; allowed options include \"cpu\" and \"cuda\"\n",
    "\n",
    "If using CUDA, we highly recommend monitoring the GPU memory usage while running this running this code `nvidia-smi -l 1`."
   ]
  },
  {
   "cell_type": "code",
   "execution_count": 2,
   "metadata": {},
   "outputs": [],
   "source": [
    "THREADS = 20\n",
    "DEVICE  = 'cuda'"
   ]
  },
  {
   "cell_type": "markdown",
   "metadata": {},
   "source": [
    "# Define input and ouput files\n",
    "\n",
    "- **npz_file** : (input) a `numpy` file containing sequence headers and fixed-size embedding vectors for each sequence\n",
    "- **colors_json** : (input, optional) json file containing coloring scheme for visualizations\n",
    "- **vibe_dir** : (input) directory for storing results\n",
    "- **exclude_file** : (input, optional) a text file listing sequence headers to exclude from the analysis\n",
    "\n",
    "If you do not wish to provide an optional file, set it equal to an empty string like so `colors_json = ''`"
   ]
  },
  {
   "cell_type": "code",
   "execution_count": 3,
   "metadata": {},
   "outputs": [],
   "source": [
    "npz_file     = 'datasets/phosphatase/phosphatase_models/fixedsize/mean_sequence_tokens.npz'\n",
    "colors_json  = 'datasets/phosphatase/phosphatase_colors.json'\n",
    "vibe_dir     = 'datasets/phosphatase/vibe/trial1'\n",
    "exclude_file = 'datasets/phosphatase/exclude.txt'"
   ]
  },
  {
   "cell_type": "markdown",
   "metadata": {},
   "source": [
    "# Define the tree building function"
   ]
  },
  {
   "cell_type": "code",
   "execution_count": 4,
   "metadata": {},
   "outputs": [],
   "source": [
    "def _nj(embedding, headers):\n",
    "    distmat = Metrics.cosine(embedding, embedding) # make sure this line uses the correct distance metric\n",
    "    # distmat = Metrics.ts_ss(embedding, embedding) # make sure this line uses the correct distance metric\n",
    "    return neighbor_joining(distmat, headers)"
   ]
  },
  {
   "cell_type": "markdown",
   "metadata": {},
   "source": [
    "# Set up variables"
   ]
  },
  {
   "cell_type": "code",
   "execution_count": 5,
   "metadata": {},
   "outputs": [],
   "source": [
    "vibe_model        = f'{vibe_dir}/vibe_model.pt'\n",
    "newick_reference  = f'{vibe_dir}/tree_reference.newick'\n",
    "newick_replicates = f'{vibe_dir}/tree_replicates.newick'\n",
    "newick_vibe       = f'{vibe_dir}/tree_vibe.newick'\n",
    "pdf_tree_vibe     = f'{vibe_dir}/tree_vibe.pdf'\n",
    "\n",
    "# colors for the tree\n",
    "colors = eval(open(colors_json).read()) if os.path.exists(colors_json) else {}\n",
    "\n",
    "# these names will be pruned from all tree as rogue taxa\n",
    "exclude = [i.strip() for i in open(exclude_file) if not i.isspace()] if os.path.exists(exclude_file) else []\n",
    "\n",
    "headers    = np.load(npz_file, allow_pickle=True)['headers']\n",
    "accessions = np.array([i.split()[0] for i in headers], dtype=object)\n",
    "embedding  = np.load(npz_file)['embedding'].astype(np.float32)\n",
    "\n",
    "mask       = np.array([i not in exclude for i in headers])\n",
    "headers    = headers[mask]\n",
    "accessions = accessions[mask]\n",
    "embedding  = embedding[mask]\n",
    "\n",
    "if not os.path.exists(vibe_dir):\n",
    "    os.makedirs(vibe_dir)\n",
    "\n",
    "with open(newick_reference, 'w') as w:\n",
    "    w.write(_nj(embedding, headers))"
   ]
  },
  {
   "cell_type": "markdown",
   "metadata": {},
   "source": [
    "# Train VAE"
   ]
  },
  {
   "cell_type": "code",
   "execution_count": 6,
   "metadata": {
    "scrolled": true
   },
   "outputs": [
    {
     "name": "stderr",
     "output_type": "stream",
     "text": [
      "====> Epoch: 500 | loss: 146.4116 | MSE: 138.9751 | TSE: 72.7575 | KLD: 160.7004 | beta: 0.0010           \n",
      "====> Epoch: 1000 | loss: 44.5597 | MSE: 42.8268 | TSE: 16.4684 | KLD: 86.0548 | beta: 0.0010        \n",
      "====> Epoch: 1500 | loss: 2.8265 | MSE: 2.5060 | TSE: 0.5578 | KLD: 42.3176 | beta: 0.0063          \n",
      "====> Epoch: 2000 | loss: 0.5545 | MSE: 0.1512 | TSE: 0.0107 | KLD: 16.4710 | beta: 0.0244      \n",
      "====> Epoch: 2500 | loss: 0.1764 | MSE: 0.0674 | TSE: 0.0051 | KLD: 17.3560 | beta: 0.0063      \n",
      "====> Epoch: 3000 | loss: 0.3843 | MSE: 0.0648 | TSE: 0.0042 | KLD: 13.0648 | beta: 0.0244      \n",
      "====> Epoch: 3500 | loss: 0.1490 | MSE: 0.0544 | TSE: 0.0049 | KLD: 15.0415 | beta: 0.0063      \n",
      "====> Epoch: 4000 | loss: 0.3430 | MSE: 0.0742 | TSE: 0.0066 | KLD: 10.9774 | beta: 0.0244      \n",
      "====> Epoch: 4500 | loss: 0.1029 | MSE: 0.0239 | TSE: 0.0015 | KLD: 12.6144 | beta: 0.0063      \n",
      "====> Epoch: 5000 | loss: 0.3442 | MSE: 0.0875 | TSE: 0.0081 | KLD: 10.4773 | beta: 0.0244      \n",
      "====> Epoch: 5500 | loss: 0.0991 | MSE: 0.0248 | TSE: 0.0016 | KLD: 11.8491 | beta: 0.0063      \n",
      "====> Epoch: 6000 | loss: 0.3187 | MSE: 0.0530 | TSE: 0.0049 | KLD: 10.8590 | beta: 0.0244      \n",
      "====> Epoch: 6500 | loss: 0.1339 | MSE: 0.0583 | TSE: 0.0075 | KLD: 11.9692 | beta: 0.0063      \n",
      "====> Epoch: 7000 | loss: 0.3199 | MSE: 0.0665 | TSE: 0.0066 | KLD: 10.3484 | beta: 0.0244      \n",
      "====> Epoch: 7500 | loss: 0.0935 | MSE: 0.0262 | TSE: 0.0017 | KLD: 10.7273 | beta: 0.0063      \n",
      "====> Epoch: 8000 | loss: 0.3022 | MSE: 0.0543 | TSE: 0.0040 | KLD: 10.1348 | beta: 0.0244      \n",
      "====> Epoch: 8500 | loss: 0.0849 | MSE: 0.0155 | TSE: 0.0009 | KLD: 11.0775 | beta: 0.0063      \n",
      "====> Epoch: 9000 | loss: 0.3196 | MSE: 0.0685 | TSE: 0.0094 | KLD: 10.2399 | beta: 0.0244      \n",
      "====> Epoch: 9500 | loss: 0.0895 | MSE: 0.0186 | TSE: 0.0015 | KLD: 11.3012 | beta: 0.0063      \n",
      "====> Epoch: 10000 | loss: 0.2729 | MSE: 0.0275 | TSE: 0.0019 | KLD: 10.0417 | beta: 0.0244      \n",
      "====> Epoch: 10500 | loss: 0.0826 | MSE: 0.0137 | TSE: 0.0008 | KLD: 11.0034 | beta: 0.0063      \n",
      "====> Epoch: 11000 | loss: 0.3365 | MSE: 0.1025 | TSE: 0.0124 | KLD: 9.5294 | beta: 0.0244       \n",
      "====> Epoch: 11500 | loss: 0.0763 | MSE: 0.0086 | TSE: 0.0005 | KLD: 10.8189 | beta: 0.0063      \n",
      "====> Epoch: 12000 | loss: 0.2564 | MSE: 0.0190 | TSE: 0.0012 | KLD: 9.7175 | beta: 0.0244       \n",
      "====> Epoch: 12500 | loss: 0.0807 | MSE: 0.0113 | TSE: 0.0007 | KLD: 11.0851 | beta: 0.0063      \n",
      "====> Epoch: 13000 | loss: 0.2668 | MSE: 0.0244 | TSE: 0.0017 | KLD: 9.9189 | beta: 0.0244       \n",
      "====> Epoch: 13500 | loss: 0.0171 | MSE: 0.0055 | TSE: 0.0003 | KLD: 11.5825 | beta: 0.0010      \n",
      "====> Epoch: 14000 | loss: 0.0146 | MSE: 0.0032 | TSE: 0.0002 | KLD: 11.4538 | beta: 0.0010      \n",
      "====> Epoch: 14500 | loss: 0.0145 | MSE: 0.0028 | TSE: 0.0002 | KLD: 11.7722 | beta: 0.0010      \n",
      "====> Epoch: 15000 | loss: 0.0172 | MSE: 0.0052 | TSE: 0.0003 | KLD: 11.9673 | beta: 0.0010      \n"
     ]
    }
   ],
   "source": [
    "vibe = VIBE(\n",
    "    encoder_layers = [1280, 640, 640, 320],\n",
    "    latent_dim     = 320,\n",
    "    decoder_layers = [320, 640, 640, 1280],\n",
    "    tse_weight     = 0.1,\n",
    "    max_iter       = 15000,\n",
    "    warm_up        = 1000 / 15000,\n",
    "    cool_down      = 2000 / 15000,\n",
    "    kld_annealing  = True,\n",
    "    start_beta     = 0.001,\n",
    "    stop_beta      = 0.1,\n",
    "    n_cycle        = 12,\n",
    "    threads        = THREADS,\n",
    "    device         = DEVICE,\n",
    "    seed           = 420,\n",
    "    log_dir        = vibe_dir)\n",
    "\n",
    "vibe.fit(embedding)\n",
    "vibe.dump(vibe_model)"
   ]
  },
  {
   "cell_type": "markdown",
   "metadata": {},
   "source": [
    "# Resample VAE for replicate trees"
   ]
  },
  {
   "cell_type": "code",
   "execution_count": 6,
   "metadata": {},
   "outputs": [],
   "source": [
    "vibe = VIBE.load(vibe_model)\n",
    "samples = vibe.resample(500)\n",
    "\n",
    "with Pool(THREADS) as pool:\n",
    "    output = pool.starmap(_nj, ((i, headers) for i in samples))\n",
    "\n",
    "with open(newick_replicates, 'w') as w:\n",
    "    w.write('\\n'.join(output))"
   ]
  },
  {
   "cell_type": "markdown",
   "metadata": {},
   "source": [
    "# Perform VIBE check"
   ]
  },
  {
   "cell_type": "code",
   "execution_count": 7,
   "metadata": {},
   "outputs": [],
   "source": [
    "reference_tree = Tree(newick_reference)\n",
    "reference_bits, reference_nodes = get_bipartitions(reference_tree, headers)\n",
    "\n",
    "replicate_newicks = (f'{i};' for i in open(newick_replicates).read().split(';') if i.strip()!='')\n",
    "replicate_trees   = ((reference_bits, i, headers) for i in map(Tree, replicate_newicks))\n",
    "\n",
    "with Pool(THREADS) as pool:\n",
    "    support_bits = pool.starmap(get_support, replicate_trees)\n",
    "    support = (100 * np.array(support_bits).mean(0)).astype(int)\n",
    "\n",
    "for percentage, node in zip(support, reference_nodes):\n",
    "    node.support = percentage\n",
    "\n",
    "for node in reference_tree.traverse():\n",
    "    if node not in reference_nodes:\n",
    "        node.support = 0\n",
    "\n",
    "with open(newick_vibe, 'w') as w:\n",
    "    w.write(reference_tree.write())"
   ]
  },
  {
   "cell_type": "markdown",
   "metadata": {},
   "source": [
    "# Draw VIBE tree"
   ]
  },
  {
   "cell_type": "code",
   "execution_count": 8,
   "metadata": {},
   "outputs": [],
   "source": [
    "def draw_tree(newick, pdf_file, colors):\n",
    "    t = Tree(newick)\n",
    "    t.ladderize()    \n",
    "    names = [i.name for i in t.get_leaves()]\n",
    "    def contains(n):\n",
    "        j = [i for i in colors if i in n]\n",
    "        return None if len(j)==0 else colors[j[-1]]\n",
    "    d = {j: i for i, j in zip(map(contains,names),names) if i!=None}\n",
    "    \n",
    "    for node in t.traverse():\n",
    "        nstyle = NodeStyle()\n",
    "        if node.name in d:\n",
    "            nstyle['bgcolor'] = d[node.name]\n",
    "            node.set_style(nstyle)  \n",
    "        nstyle[\"size\"] = 0\n",
    "        nstyle[\"vt_line_width\"] = 1\n",
    "        nstyle[\"hz_line_width\"] = 1\n",
    "        node.set_style(nstyle)\n",
    "    \n",
    "    ts = TreeStyle()\n",
    "    ts.mode = \"c\"\n",
    "    ts.root_opening_factor = .45\n",
    "    ts.show_branch_support = True\n",
    "    t.render(pdf_file, tree_style=ts)\n",
    "\n",
    "draw_tree(newick_vibe, pdf_tree_vibe, colors)"
   ]
  }
 ],
 "metadata": {
  "kernelspec": {
   "display_name": "Python 3",
   "language": "python",
   "name": "python3"
  },
  "language_info": {
   "codemirror_mode": {
    "name": "ipython",
    "version": 3
   },
   "file_extension": ".py",
   "mimetype": "text/x-python",
   "name": "python",
   "nbconvert_exporter": "python",
   "pygments_lexer": "ipython3",
   "version": "3.6.9"
  }
 },
 "nbformat": 4,
 "nbformat_minor": 4
}

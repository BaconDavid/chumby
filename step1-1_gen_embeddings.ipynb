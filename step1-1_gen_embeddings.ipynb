{
 "cells": [
  {
   "cell_type": "code",
   "execution_count": 1,
   "metadata": {},
   "outputs": [],
   "source": [
    "import os\n",
    "import sys\n",
    "from itertools import groupby\n",
    "\n",
    "import numpy as np\n",
    "\n",
    "import torch\n",
    "\n",
    "sys.dont_write_bytecode = True\n",
    "np.set_printoptions(precision=6, suppress=True)\n",
    "\n",
    "from my_library import Database, ESM_Model, read_fasta, gzip_tensor, validate_fasta, validate_database\n"
   ]
  },
  {
   "cell_type": "markdown",
   "metadata": {},
   "source": [
    "# Allocate resources\n",
    "\n",
    "- **THREADS** : this variable will be passed to `torch`\n",
    "- **DEVICE** : this will be passed to `torch`; allowed options include \"cpu\" and \"cuda\"\n",
    "\n",
    "If using CUDA, we highly recommend monitoring the GPU memory usage while running this running this code `nvidia-smi -l 1`."
   ]
  },
  {
   "cell_type": "code",
   "execution_count": 2,
   "metadata": {},
   "outputs": [],
   "source": [
    "THREADS = 2\n",
    "DEVICE  = 'cuda'"
   ]
  },
  {
   "cell_type": "markdown",
   "metadata": {},
   "source": [
    "# Define input and ouput files\n",
    "\n",
    "- **FASTA_FILE** : (input) fasta file containing protein sequences\n",
    "- **DB_FILE** : (output) sqlite database for storing protein sequence embedding\n"
   ]
  },
  {
   "cell_type": "code",
   "execution_count": 3,
   "metadata": {},
   "outputs": [],
   "source": [
    "# for the phosphatase dataset\n",
    "FASTA_FILE = 'datasets/phosphatase/phosphatase.fa'\n",
    "DB_FILE    = 'datasets/phosphatase/phosphatase.db'\n",
    "\n",
    "# # for the kinase dataset\n",
    "# FASTA_FILE = 'datasets/protein_kinase/kinase.fa'\n",
    "# DB_FILE    = 'datasets/protein_kinase/kinase.db'\n",
    "\n",
    "# # for the radical sam dataset\n",
    "# FASTA_FILE = 'datasets/radical_sam/radicalsam.fa'\n",
    "# DB_FILE    = 'datasets/radical_sam/radicalsam.db'"
   ]
  },
  {
   "cell_type": "markdown",
   "metadata": {},
   "source": [
    "# Check the FASTA file\n",
    "\n",
    "- All sequence headers and accessions must be unique.\n",
    "- To avoid issues with the newick tree format, sequence headers cannot contain parenthesis, quotes, colons, or semicolons.\n",
    "- If using the ESM language model, sequences cannot be longer than 1022 residues."
   ]
  },
  {
   "cell_type": "code",
   "execution_count": 4,
   "metadata": {},
   "outputs": [
    {
     "name": "stderr",
     "output_type": "stream",
     "text": [
      "validate_fasta : found 204 sequences in \"datasets/phosphatase/phosphatase.fa\"\n",
      "validate_fasta : passed\n"
     ]
    },
    {
     "data": {
      "text/plain": [
       "True"
      ]
     },
     "execution_count": 4,
     "metadata": {},
     "output_type": "execute_result"
    }
   ],
   "source": [
    "validate_fasta(FASTA_FILE)"
   ]
  },
  {
   "cell_type": "markdown",
   "metadata": {},
   "source": [
    "# Load protein language model"
   ]
  },
  {
   "cell_type": "code",
   "execution_count": 5,
   "metadata": {},
   "outputs": [],
   "source": [
    "try:\n",
    "    encoder # if the model has already been loaded, do not reload\n",
    "except:\n",
    "    encoder = ESM_Model('esm1b_t33_650M_UR50S')"
   ]
  },
  {
   "cell_type": "markdown",
   "metadata": {},
   "source": [
    "# Generate sequence embeddings"
   ]
  },
  {
   "cell_type": "code",
   "execution_count": 6,
   "metadata": {},
   "outputs": [
    {
     "name": "stderr",
     "output_type": "stream",
     "text": [
      "ADDING ENTRIES : 204\n"
     ]
    }
   ],
   "source": [
    "# ensure that an existing database does not exist\n",
    "validate_database(DB_FILE)\n",
    "\n",
    "# create a SQLite database to store the embeddings\n",
    "db = Database(DB_FILE)\n",
    "db.create_table(columns=[\n",
    "    ('header',    'TEXT'),\n",
    "    ('sequence',  'TEXT'),\n",
    "    ('embedding', 'BLOB'),\n",
    "])\n",
    "\n",
    "# define function for generating, then gzipping the embeddings for storage\n",
    "func_encode = lambda s: gzip_tensor(encoder.encode(s, device=DEVICE, threads=THREADS).type(torch.float16))\n",
    "\n",
    "# iteratively run the function on each sequence\n",
    "queue = ((h, s, func_encode(s)) for h, s in read_fasta(FASTA_FILE))\n",
    "db.add_rows(('header', 'sequence', 'embedding'), queue)\n"
   ]
  },
  {
   "cell_type": "code",
   "execution_count": null,
   "metadata": {},
   "outputs": [],
   "source": []
  }
 ],
 "metadata": {
  "kernelspec": {
   "display_name": "Python 3",
   "language": "python",
   "name": "python3"
  },
  "language_info": {
   "codemirror_mode": {
    "name": "ipython",
    "version": 3
   },
   "file_extension": ".py",
   "mimetype": "text/x-python",
   "name": "python",
   "nbconvert_exporter": "python",
   "pygments_lexer": "ipython3",
   "version": "3.6.9"
  }
 },
 "nbformat": 4,
 "nbformat_minor": 4
}

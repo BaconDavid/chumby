{
 "cells": [
  {
   "cell_type": "code",
   "execution_count": 1,
   "metadata": {},
   "outputs": [],
   "source": [
    "import os\n",
    "import sys\n",
    "from multiprocessing import Pool\n",
    "\n",
    "import numpy as np\n",
    "from sklearn.metrics import silhouette_score\n",
    "import matplotlib.pyplot as plt\n",
    "\n",
    "from ete3 import Tree, TextFace, TreeStyle, NodeStyle\n",
    "\n",
    "from bokeh.io import output_file, show, save\n",
    "from bokeh.models import ColumnDataSource, HoverTool\n",
    "from bokeh.plotting import figure\n",
    "\n",
    "sys.dont_write_bytecode = True\n",
    "np.set_printoptions(precision=6, suppress=True)"
   ]
  },
  {
   "cell_type": "markdown",
   "metadata": {},
   "source": [
    "# Allocate resources\n",
    "\n",
    "- **THREADS** : this variable will be passed to `multiprocessing.Pool`\n"
   ]
  },
  {
   "cell_type": "code",
   "execution_count": 2,
   "metadata": {},
   "outputs": [],
   "source": [
    "THREADS = 2"
   ]
  },
  {
   "cell_type": "markdown",
   "metadata": {},
   "source": [
    "# Define input and output files\n",
    "\n",
    "- **OUTPUT_DIR** : (input) directory containing previous results; outputs will be also be stored here\n",
    "- **COLORS_JSON** : (input, optional) json file containing coloring scheme for visualizations\n",
    "\n",
    "If you do not wish to provide an optional file, set it equal to an empty string like so `COLORS_JSON = ''`"
   ]
  },
  {
   "cell_type": "code",
   "execution_count": 3,
   "metadata": {},
   "outputs": [],
   "source": [
    "# for the phosphatase dataset\n",
    "OUTPUT_DIR  = 'datasets/phosphatase/phosphatase_models'\n",
    "COLORS_JSON = 'datasets/phosphatase/phosphatase_colors.json'\n",
    "\n",
    "# # for the kinase dataset\n",
    "# OUTPUT_DIR  = 'datasets/protein_kinase/kinase_models'\n",
    "# COLORS_JSON = 'datasets/protein_kinase/kinase_colors.json'\n",
    "\n",
    "# # for the radical sam dataset\n",
    "# OUTPUT_DIR  = 'datasets/radical_sam/radicalsam_models'\n",
    "# COLORS_JSON = 'datasets/radical_sam/radicalsam_colors.json'"
   ]
  },
  {
   "cell_type": "markdown",
   "metadata": {},
   "source": [
    "# Set up variables"
   ]
  },
  {
   "cell_type": "code",
   "execution_count": 4,
   "metadata": {},
   "outputs": [],
   "source": [
    "sequences_npz = f'{OUTPUT_DIR}/sequences.npz'\n",
    "headers       = np.load(sequences_npz, allow_pickle=True)['headers']\n",
    "sequences     = np.load(sequences_npz, allow_pickle=True)['sequences']\n",
    "\n",
    "models_dir    = f'{OUTPUT_DIR}/models'\n",
    "models        = [np.load(f'{models_dir}/{i}') for i in sorted(os.listdir(models_dir))]\n",
    "models        = [{k: i[k].item() if i[k].ndim==0 else i[k] for k in i} for i in models]\n",
    "\n",
    "colors = eval(open(COLORS_JSON).read()) if os.path.exists(COLORS_JSON) else {}"
   ]
  },
  {
   "cell_type": "markdown",
   "metadata": {},
   "source": [
    "# Write newick files"
   ]
  },
  {
   "cell_type": "code",
   "execution_count": 5,
   "metadata": {},
   "outputs": [],
   "source": [
    "def _export_newick(newick, newick_file):\n",
    "    with open(newick_file, 'w') as w:\n",
    "        w.write(newick)\n",
    "\n",
    "out_dir = f'{OUTPUT_DIR}/viz_nj'\n",
    "if not os.path.exists(out_dir):\n",
    "    os.mkdir(out_dir)\n",
    "_queue = ((i['viz(nj)'], f'{out_dir}/{i[\"representation\"]}_{i[\"metric\"]}.newick') for i in models)\n",
    "pool   = Pool(THREADS)\n",
    "pool.starmap(_export_newick, _queue)\n",
    "pool.terminate()"
   ]
  },
  {
   "cell_type": "markdown",
   "metadata": {},
   "source": [
    "# Draw trees\n",
    "\n",
    "Draw trees using ete3. Use multiprocessing to generate multiple plots at once.\n"
   ]
  },
  {
   "cell_type": "code",
   "execution_count": 6,
   "metadata": {},
   "outputs": [],
   "source": [
    "def _draw_tree(newick, pdf_file, colors):\n",
    "    t = Tree(newick)\n",
    "    t.ladderize()    \n",
    "    names = [i.name for i in t.get_leaves()]\n",
    "    def contains(n):\n",
    "        j = [i for i in colors if i in n]\n",
    "        return None if len(j)==0 else colors[j[-1]]\n",
    "    d = {j: i for i, j in zip(map(contains,names),names) if i!=None}\n",
    "    \n",
    "    for node in t.traverse():\n",
    "        nstyle = NodeStyle()\n",
    "        if node.name in d:\n",
    "            nstyle['bgcolor'] = d[node.name]\n",
    "            node.set_style(nstyle)  \n",
    "        nstyle[\"size\"] = 0\n",
    "        nstyle[\"vt_line_width\"] = 1\n",
    "        nstyle[\"hz_line_width\"] = 1\n",
    "        node.set_style(nstyle)\n",
    "    \n",
    "    ts = TreeStyle()\n",
    "    ts.mode = \"c\"\n",
    "    ts.root_opening_factor = .45\n",
    "    ts.show_branch_support = False\n",
    "    t.render(pdf_file, tree_style=ts)\n",
    "\n",
    "out_dir = f'{OUTPUT_DIR}/viz_nj'\n",
    "if not os.path.exists(out_dir):\n",
    "    os.mkdir(out_dir)\n",
    "_queue = ((i['viz(nj)'], f'{out_dir}/{i[\"representation\"]}_{i[\"metric\"]}.pdf', colors) for i in models)\n",
    "pool   = Pool(THREADS)\n",
    "pool.starmap(_draw_tree, _queue)\n",
    "pool.terminate()"
   ]
  },
  {
   "cell_type": "markdown",
   "metadata": {},
   "source": [
    "# Draw scatterplots (static)\n",
    "\n",
    "Draw static plots using matplotlib. Use multiprocessing to generate multiple plots at once."
   ]
  },
  {
   "cell_type": "code",
   "execution_count": 7,
   "metadata": {},
   "outputs": [],
   "source": [
    "def _draw_scatter_static(projection, eps_file, names, colors):\n",
    "    fill = [[colors[j] for j in colors if j in i] for i in names]\n",
    "    fill = [i[0] if len(i)>0 else 'white' for i in fill]\n",
    "    plt.figure(figsize=(9,9))\n",
    "    plt.scatter(*projection.T, c=fill, edgecolors='black', linewidths=1)\n",
    "    plt.xticks([])\n",
    "    plt.yticks([])\n",
    "    plt.savefig(eps_file)\n",
    "\n",
    "out_dir = f'{OUTPUT_DIR}/viz_densmap'\n",
    "if not os.path.exists(out_dir):\n",
    "    os.mkdir(out_dir)\n",
    "_queue = ((i['viz(densmap)'], f'{out_dir}/{i[\"representation\"]}_{i[\"metric\"]}.eps', headers, colors) for i in models)\n",
    "pool   = Pool(THREADS)\n",
    "pool.starmap(_draw_scatter_static, _queue)\n",
    "pool.terminate()"
   ]
  },
  {
   "cell_type": "markdown",
   "metadata": {},
   "source": [
    "# Draw scatterplots (interactive)\n",
    "\n",
    "Draw interactive plots using bokeh. Use multiprocessing to generate multiple plots at once."
   ]
  },
  {
   "cell_type": "code",
   "execution_count": 8,
   "metadata": {},
   "outputs": [],
   "source": [
    "def _draw_scatter_interactive(projection, html_file, names, colors):\n",
    "    fill = [[colors[j] for j in colors if j in i] for i in names]\n",
    "    fill = [i[0] if len(i)>0 else 'white' for i in fill]\n",
    "    source = ColumnDataSource(data=dict(x=projection[:,0], y=projection[:,1], desc=names, fill=fill))\n",
    "    hover = HoverTool(tooltips=[('desc', '@desc')])\n",
    "    p = figure(plot_width=1200, plot_height=1200, tools=[hover], title=None)\n",
    "    p.circle('x', 'y', size=9, source=source, line_width=1, line_color='black', fill_color='fill')\n",
    "    p.toolbar.logo = None\n",
    "    p.toolbar_location = None\n",
    "    output_file(html_file)\n",
    "    save(p)\n",
    "\n",
    "out_dir = f'{OUTPUT_DIR}/viz_densmap'\n",
    "if not os.path.exists(out_dir):\n",
    "    os.mkdir(out_dir)\n",
    "_queue = ((i['viz(densmap)'], f'{out_dir}/{i[\"representation\"]}_{i[\"metric\"]}.html', headers, colors) for i in models)\n",
    "pool   = Pool(THREADS)\n",
    "pool.starmap(_draw_scatter_interactive, _queue)\n",
    "pool.terminate()"
   ]
  },
  {
   "cell_type": "code",
   "execution_count": null,
   "metadata": {},
   "outputs": [],
   "source": []
  }
 ],
 "metadata": {
  "kernelspec": {
   "display_name": "Python 3",
   "language": "python",
   "name": "python3"
  },
  "language_info": {
   "codemirror_mode": {
    "name": "ipython",
    "version": 3
   },
   "file_extension": ".py",
   "mimetype": "text/x-python",
   "name": "python",
   "nbconvert_exporter": "python",
   "pygments_lexer": "ipython3",
   "version": "3.6.9"
  }
 },
 "nbformat": 4,
 "nbformat_minor": 4
}
